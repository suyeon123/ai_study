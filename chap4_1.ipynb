{
  "cells": [
    {
      "cell_type": "markdown",
      "metadata": {
        "id": "view-in-github",
        "colab_type": "text"
      },
      "source": [
        "<a href=\"https://colab.research.google.com/github/suyeon123/ai_study/blob/main/chap4_1.ipynb\" target=\"_parent\"><img src=\"https://colab.research.google.com/assets/colab-badge.svg\" alt=\"Open In Colab\"/></a>"
      ]
    },
    {
      "cell_type": "markdown",
      "id": "f9ea6ec8",
      "metadata": {
        "id": "f9ea6ec8"
      },
      "source": [
        "# 04-1 통계로 요약하기"
      ]
    },
    {
      "cell_type": "code",
      "execution_count": null,
      "id": "dec4d531",
      "metadata": {
        "id": "dec4d531",
        "outputId": "052da6a4-796c-404b-f199-63c28c5dc184"
      },
      "outputs": [
        {
          "name": "stderr",
          "output_type": "stream",
          "text": [
            "Downloading...\n",
            "From: https://bit.ly/3736JW1\n",
            "To: /Users/haesun/github/hg-da/ns_book6.csv\n",
            "100%|██████████| 55.0M/55.0M [00:04<00:00, 11.3MB/s]\n"
          ]
        },
        {
          "data": {
            "text/plain": [
              "'ns_book6.csv'"
            ]
          },
          "execution_count": 1,
          "metadata": {},
          "output_type": "execute_result"
        }
      ],
      "source": [
        "import gdown\n",
        "\n",
        "gdown.download('https://bit.ly/3736JW1', 'ns_book6.csv', quiet=False)"
      ]
    },
    {
      "cell_type": "code",
      "execution_count": null,
      "id": "158388b2",
      "metadata": {
        "id": "158388b2",
        "outputId": "4737415e-c96a-42aa-8495-076a9f87a71b"
      },
      "outputs": [
        {
          "data": {
            "text/html": [
              "<div>\n",
              "<style scoped>\n",
              "    .dataframe tbody tr th:only-of-type {\n",
              "        vertical-align: middle;\n",
              "    }\n",
              "\n",
              "    .dataframe tbody tr th {\n",
              "        vertical-align: top;\n",
              "    }\n",
              "\n",
              "    .dataframe thead th {\n",
              "        text-align: right;\n",
              "    }\n",
              "</style>\n",
              "<table border=\"1\" class=\"dataframe\">\n",
              "  <thead>\n",
              "    <tr style=\"text-align: right;\">\n",
              "      <th></th>\n",
              "      <th>번호</th>\n",
              "      <th>도서명</th>\n",
              "      <th>저자</th>\n",
              "      <th>출판사</th>\n",
              "      <th>발행년도</th>\n",
              "      <th>ISBN</th>\n",
              "      <th>세트 ISBN</th>\n",
              "      <th>부가기호</th>\n",
              "      <th>권</th>\n",
              "      <th>주제분류번호</th>\n",
              "      <th>도서권수</th>\n",
              "      <th>대출건수</th>\n",
              "      <th>등록일자</th>\n",
              "    </tr>\n",
              "  </thead>\n",
              "  <tbody>\n",
              "    <tr>\n",
              "      <th>0</th>\n",
              "      <td>1</td>\n",
              "      <td>인공지능과 흙</td>\n",
              "      <td>김동훈 지음</td>\n",
              "      <td>민음사</td>\n",
              "      <td>2021.0</td>\n",
              "      <td>9788937444319</td>\n",
              "      <td>NaN</td>\n",
              "      <td>NaN</td>\n",
              "      <td>NaN</td>\n",
              "      <td>NaN</td>\n",
              "      <td>1</td>\n",
              "      <td>0</td>\n",
              "      <td>2021-03-19</td>\n",
              "    </tr>\n",
              "    <tr>\n",
              "      <th>1</th>\n",
              "      <td>2</td>\n",
              "      <td>가짜 행복 권하는 사회</td>\n",
              "      <td>김태형 지음</td>\n",
              "      <td>갈매나무</td>\n",
              "      <td>2021.0</td>\n",
              "      <td>9791190123969</td>\n",
              "      <td>NaN</td>\n",
              "      <td>NaN</td>\n",
              "      <td>NaN</td>\n",
              "      <td>NaN</td>\n",
              "      <td>1</td>\n",
              "      <td>0</td>\n",
              "      <td>2021-03-19</td>\n",
              "    </tr>\n",
              "    <tr>\n",
              "      <th>2</th>\n",
              "      <td>3</td>\n",
              "      <td>나도 한 문장 잘 쓰면 바랄 게 없겠네</td>\n",
              "      <td>김선영 지음</td>\n",
              "      <td>블랙피쉬</td>\n",
              "      <td>2021.0</td>\n",
              "      <td>9788968332982</td>\n",
              "      <td>NaN</td>\n",
              "      <td>NaN</td>\n",
              "      <td>NaN</td>\n",
              "      <td>NaN</td>\n",
              "      <td>1</td>\n",
              "      <td>0</td>\n",
              "      <td>2021-03-19</td>\n",
              "    </tr>\n",
              "    <tr>\n",
              "      <th>3</th>\n",
              "      <td>4</td>\n",
              "      <td>예루살렘 해변</td>\n",
              "      <td>이도 게펜 지음, 임재희 옮김</td>\n",
              "      <td>문학세계사</td>\n",
              "      <td>2021.0</td>\n",
              "      <td>9788970759906</td>\n",
              "      <td>NaN</td>\n",
              "      <td>NaN</td>\n",
              "      <td>NaN</td>\n",
              "      <td>NaN</td>\n",
              "      <td>1</td>\n",
              "      <td>0</td>\n",
              "      <td>2021-03-19</td>\n",
              "    </tr>\n",
              "    <tr>\n",
              "      <th>4</th>\n",
              "      <td>5</td>\n",
              "      <td>김성곤의 중국한시기행 : 장강·황하 편</td>\n",
              "      <td>김성곤 지음</td>\n",
              "      <td>김영사</td>\n",
              "      <td>2021.0</td>\n",
              "      <td>9788934990833</td>\n",
              "      <td>NaN</td>\n",
              "      <td>NaN</td>\n",
              "      <td>NaN</td>\n",
              "      <td>NaN</td>\n",
              "      <td>1</td>\n",
              "      <td>0</td>\n",
              "      <td>2021-03-19</td>\n",
              "    </tr>\n",
              "  </tbody>\n",
              "</table>\n",
              "</div>"
            ],
            "text/plain": [
              "   번호                    도서명                저자    출판사    발행년도           ISBN  \\\n",
              "0   1                인공지능과 흙            김동훈 지음    민음사  2021.0  9788937444319   \n",
              "1   2           가짜 행복 권하는 사회            김태형 지음   갈매나무  2021.0  9791190123969   \n",
              "2   3  나도 한 문장 잘 쓰면 바랄 게 없겠네            김선영 지음   블랙피쉬  2021.0  9788968332982   \n",
              "3   4                예루살렘 해변  이도 게펜 지음, 임재희 옮김  문학세계사  2021.0  9788970759906   \n",
              "4   5  김성곤의 중국한시기행 : 장강·황하 편            김성곤 지음    김영사  2021.0  9788934990833   \n",
              "\n",
              "  세트 ISBN 부가기호    권 주제분류번호  도서권수  대출건수        등록일자  \n",
              "0     NaN  NaN  NaN    NaN     1     0  2021-03-19  \n",
              "1     NaN  NaN  NaN    NaN     1     0  2021-03-19  \n",
              "2     NaN  NaN  NaN    NaN     1     0  2021-03-19  \n",
              "3     NaN  NaN  NaN    NaN     1     0  2021-03-19  \n",
              "4     NaN  NaN  NaN    NaN     1     0  2021-03-19  "
            ]
          },
          "execution_count": 2,
          "metadata": {},
          "output_type": "execute_result"
        }
      ],
      "source": [
        "import pandas as pd\n",
        "\n",
        "ns_book6 = pd.read_csv('ns_book6.csv', low_memory=False)\n",
        "ns_book6.head()"
      ]
    },
    {
      "cell_type": "code",
      "execution_count": null,
      "id": "2af026e1",
      "metadata": {
        "scrolled": true,
        "id": "2af026e1",
        "outputId": "bc4b4e78-7f60-4221-c2f7-282bb82b650c"
      },
      "outputs": [
        {
          "data": {
            "text/html": [
              "<div>\n",
              "<style scoped>\n",
              "    .dataframe tbody tr th:only-of-type {\n",
              "        vertical-align: middle;\n",
              "    }\n",
              "\n",
              "    .dataframe tbody tr th {\n",
              "        vertical-align: top;\n",
              "    }\n",
              "\n",
              "    .dataframe thead th {\n",
              "        text-align: right;\n",
              "    }\n",
              "</style>\n",
              "<table border=\"1\" class=\"dataframe\">\n",
              "  <thead>\n",
              "    <tr style=\"text-align: right;\">\n",
              "      <th></th>\n",
              "      <th>번호</th>\n",
              "      <th>발행년도</th>\n",
              "      <th>도서권수</th>\n",
              "      <th>대출건수</th>\n",
              "    </tr>\n",
              "  </thead>\n",
              "  <tbody>\n",
              "    <tr>\n",
              "      <th>count</th>\n",
              "      <td>379976.000000</td>\n",
              "      <td>379976.000000</td>\n",
              "      <td>379976.000000</td>\n",
              "      <td>379976.000000</td>\n",
              "    </tr>\n",
              "    <tr>\n",
              "      <th>mean</th>\n",
              "      <td>201726.332847</td>\n",
              "      <td>2008.516306</td>\n",
              "      <td>1.135874</td>\n",
              "      <td>11.504629</td>\n",
              "    </tr>\n",
              "    <tr>\n",
              "      <th>std</th>\n",
              "      <td>115836.454596</td>\n",
              "      <td>8.780529</td>\n",
              "      <td>0.483343</td>\n",
              "      <td>19.241926</td>\n",
              "    </tr>\n",
              "    <tr>\n",
              "      <th>min</th>\n",
              "      <td>1.000000</td>\n",
              "      <td>1947.000000</td>\n",
              "      <td>0.000000</td>\n",
              "      <td>0.000000</td>\n",
              "    </tr>\n",
              "    <tr>\n",
              "      <th>25%</th>\n",
              "      <td>102202.750000</td>\n",
              "      <td>2003.000000</td>\n",
              "      <td>1.000000</td>\n",
              "      <td>2.000000</td>\n",
              "    </tr>\n",
              "    <tr>\n",
              "      <th>50%</th>\n",
              "      <td>203179.500000</td>\n",
              "      <td>2009.000000</td>\n",
              "      <td>1.000000</td>\n",
              "      <td>6.000000</td>\n",
              "    </tr>\n",
              "    <tr>\n",
              "      <th>75%</th>\n",
              "      <td>301630.250000</td>\n",
              "      <td>2015.000000</td>\n",
              "      <td>1.000000</td>\n",
              "      <td>14.000000</td>\n",
              "    </tr>\n",
              "    <tr>\n",
              "      <th>max</th>\n",
              "      <td>401681.000000</td>\n",
              "      <td>2650.000000</td>\n",
              "      <td>40.000000</td>\n",
              "      <td>1765.000000</td>\n",
              "    </tr>\n",
              "  </tbody>\n",
              "</table>\n",
              "</div>"
            ],
            "text/plain": [
              "                  번호           발행년도           도서권수           대출건수\n",
              "count  379976.000000  379976.000000  379976.000000  379976.000000\n",
              "mean   201726.332847    2008.516306       1.135874      11.504629\n",
              "std    115836.454596       8.780529       0.483343      19.241926\n",
              "min         1.000000    1947.000000       0.000000       0.000000\n",
              "25%    102202.750000    2003.000000       1.000000       2.000000\n",
              "50%    203179.500000    2009.000000       1.000000       6.000000\n",
              "75%    301630.250000    2015.000000       1.000000      14.000000\n",
              "max    401681.000000    2650.000000      40.000000    1765.000000"
            ]
          },
          "execution_count": 3,
          "metadata": {},
          "output_type": "execute_result"
        }
      ],
      "source": [
        "ns_book6.describe()"
      ]
    },
    {
      "cell_type": "code",
      "execution_count": null,
      "id": "2b7c01bf",
      "metadata": {
        "id": "2b7c01bf",
        "outputId": "867d594a-bc6f-407c-c1da-b6292afbd62f"
      },
      "outputs": [
        {
          "data": {
            "text/plain": [
              "3206"
            ]
          },
          "execution_count": 4,
          "metadata": {},
          "output_type": "execute_result"
        }
      ],
      "source": [
        "sum(ns_book6['도서권수']==0)"
      ]
    },
    {
      "cell_type": "code",
      "execution_count": null,
      "id": "16d05599",
      "metadata": {
        "id": "16d05599"
      },
      "outputs": [],
      "source": [
        "ns_book7 = ns_book6[ns_book6['도서권수']>0]"
      ]
    },
    {
      "cell_type": "code",
      "execution_count": null,
      "id": "af207f47",
      "metadata": {
        "id": "af207f47",
        "outputId": "07bb3b7d-6bd0-447a-d3e2-bbe136e0fcf3"
      },
      "outputs": [
        {
          "data": {
            "text/html": [
              "<div>\n",
              "<style scoped>\n",
              "    .dataframe tbody tr th:only-of-type {\n",
              "        vertical-align: middle;\n",
              "    }\n",
              "\n",
              "    .dataframe tbody tr th {\n",
              "        vertical-align: top;\n",
              "    }\n",
              "\n",
              "    .dataframe thead th {\n",
              "        text-align: right;\n",
              "    }\n",
              "</style>\n",
              "<table border=\"1\" class=\"dataframe\">\n",
              "  <thead>\n",
              "    <tr style=\"text-align: right;\">\n",
              "      <th></th>\n",
              "      <th>번호</th>\n",
              "      <th>발행년도</th>\n",
              "      <th>도서권수</th>\n",
              "      <th>대출건수</th>\n",
              "    </tr>\n",
              "  </thead>\n",
              "  <tbody>\n",
              "    <tr>\n",
              "      <th>count</th>\n",
              "      <td>376770.000000</td>\n",
              "      <td>376770.000000</td>\n",
              "      <td>376770.000000</td>\n",
              "      <td>376770.000000</td>\n",
              "    </tr>\n",
              "    <tr>\n",
              "      <th>mean</th>\n",
              "      <td>202977.476649</td>\n",
              "      <td>2008.460076</td>\n",
              "      <td>1.145540</td>\n",
              "      <td>11.593439</td>\n",
              "    </tr>\n",
              "    <tr>\n",
              "      <th>std</th>\n",
              "      <td>115298.245784</td>\n",
              "      <td>8.773148</td>\n",
              "      <td>0.473853</td>\n",
              "      <td>19.279409</td>\n",
              "    </tr>\n",
              "    <tr>\n",
              "      <th>min</th>\n",
              "      <td>1.000000</td>\n",
              "      <td>1947.000000</td>\n",
              "      <td>1.000000</td>\n",
              "      <td>0.000000</td>\n",
              "    </tr>\n",
              "    <tr>\n",
              "      <th>30%</th>\n",
              "      <td>124649.700000</td>\n",
              "      <td>2004.000000</td>\n",
              "      <td>1.000000</td>\n",
              "      <td>2.000000</td>\n",
              "    </tr>\n",
              "    <tr>\n",
              "      <th>50%</th>\n",
              "      <td>204550.500000</td>\n",
              "      <td>2009.000000</td>\n",
              "      <td>1.000000</td>\n",
              "      <td>6.000000</td>\n",
              "    </tr>\n",
              "    <tr>\n",
              "      <th>60%</th>\n",
              "      <td>243537.400000</td>\n",
              "      <td>2011.000000</td>\n",
              "      <td>1.000000</td>\n",
              "      <td>8.000000</td>\n",
              "    </tr>\n",
              "    <tr>\n",
              "      <th>90%</th>\n",
              "      <td>361341.100000</td>\n",
              "      <td>2018.000000</td>\n",
              "      <td>2.000000</td>\n",
              "      <td>28.000000</td>\n",
              "    </tr>\n",
              "    <tr>\n",
              "      <th>max</th>\n",
              "      <td>401681.000000</td>\n",
              "      <td>2650.000000</td>\n",
              "      <td>40.000000</td>\n",
              "      <td>1765.000000</td>\n",
              "    </tr>\n",
              "  </tbody>\n",
              "</table>\n",
              "</div>"
            ],
            "text/plain": [
              "                  번호           발행년도           도서권수           대출건수\n",
              "count  376770.000000  376770.000000  376770.000000  376770.000000\n",
              "mean   202977.476649    2008.460076       1.145540      11.593439\n",
              "std    115298.245784       8.773148       0.473853      19.279409\n",
              "min         1.000000    1947.000000       1.000000       0.000000\n",
              "30%    124649.700000    2004.000000       1.000000       2.000000\n",
              "50%    204550.500000    2009.000000       1.000000       6.000000\n",
              "60%    243537.400000    2011.000000       1.000000       8.000000\n",
              "90%    361341.100000    2018.000000       2.000000      28.000000\n",
              "max    401681.000000    2650.000000      40.000000    1765.000000"
            ]
          },
          "execution_count": 6,
          "metadata": {},
          "output_type": "execute_result"
        }
      ],
      "source": [
        "ns_book7.describe(percentiles=[0.3, 0.6, 0.9])"
      ]
    },
    {
      "cell_type": "code",
      "execution_count": null,
      "id": "9b84ae82",
      "metadata": {
        "id": "9b84ae82",
        "outputId": "c0eade83-696d-4b21-cd1d-8a45ffeb0923"
      },
      "outputs": [
        {
          "data": {
            "text/html": [
              "<div>\n",
              "<style scoped>\n",
              "    .dataframe tbody tr th:only-of-type {\n",
              "        vertical-align: middle;\n",
              "    }\n",
              "\n",
              "    .dataframe tbody tr th {\n",
              "        vertical-align: top;\n",
              "    }\n",
              "\n",
              "    .dataframe thead th {\n",
              "        text-align: right;\n",
              "    }\n",
              "</style>\n",
              "<table border=\"1\" class=\"dataframe\">\n",
              "  <thead>\n",
              "    <tr style=\"text-align: right;\">\n",
              "      <th></th>\n",
              "      <th>도서명</th>\n",
              "      <th>저자</th>\n",
              "      <th>출판사</th>\n",
              "      <th>ISBN</th>\n",
              "      <th>세트 ISBN</th>\n",
              "      <th>부가기호</th>\n",
              "      <th>권</th>\n",
              "      <th>주제분류번호</th>\n",
              "      <th>등록일자</th>\n",
              "    </tr>\n",
              "  </thead>\n",
              "  <tbody>\n",
              "    <tr>\n",
              "      <th>count</th>\n",
              "      <td>376770</td>\n",
              "      <td>376770</td>\n",
              "      <td>376770</td>\n",
              "      <td>376770</td>\n",
              "      <td>55866</td>\n",
              "      <td>308252</td>\n",
              "      <td>61793</td>\n",
              "      <td>359792</td>\n",
              "      <td>376770</td>\n",
              "    </tr>\n",
              "    <tr>\n",
              "      <th>unique</th>\n",
              "      <td>336408</td>\n",
              "      <td>248850</td>\n",
              "      <td>21875</td>\n",
              "      <td>350810</td>\n",
              "      <td>14875</td>\n",
              "      <td>17</td>\n",
              "      <td>834</td>\n",
              "      <td>12467</td>\n",
              "      <td>4562</td>\n",
              "    </tr>\n",
              "    <tr>\n",
              "      <th>top</th>\n",
              "      <td>승정원일기</td>\n",
              "      <td>세종대왕기념사업회 [편]</td>\n",
              "      <td>문학동네</td>\n",
              "      <td>9788937430299</td>\n",
              "      <td>9788937460005</td>\n",
              "      <td>0</td>\n",
              "      <td>1</td>\n",
              "      <td>813.6</td>\n",
              "      <td>1970-01-01</td>\n",
              "    </tr>\n",
              "    <tr>\n",
              "      <th>freq</th>\n",
              "      <td>250</td>\n",
              "      <td>303</td>\n",
              "      <td>4410</td>\n",
              "      <td>206</td>\n",
              "      <td>702</td>\n",
              "      <td>158235</td>\n",
              "      <td>13282</td>\n",
              "      <td>14816</td>\n",
              "      <td>28185</td>\n",
              "    </tr>\n",
              "  </tbody>\n",
              "</table>\n",
              "</div>"
            ],
            "text/plain": [
              "           도서명             저자     출판사           ISBN        세트 ISBN    부가기호  \\\n",
              "count   376770         376770  376770         376770          55866  308252   \n",
              "unique  336408         248850   21875         350810          14875      17   \n",
              "top      승정원일기  세종대왕기념사업회 [편]    문학동네  9788937430299  9788937460005       0   \n",
              "freq       250            303    4410            206            702  158235   \n",
              "\n",
              "            권  주제분류번호        등록일자  \n",
              "count   61793  359792      376770  \n",
              "unique    834   12467        4562  \n",
              "top         1   813.6  1970-01-01  \n",
              "freq    13282   14816       28185  "
            ]
          },
          "execution_count": 7,
          "metadata": {},
          "output_type": "execute_result"
        }
      ],
      "source": [
        "ns_book7.describe(include='object')"
      ]
    },
    {
      "cell_type": "markdown",
      "id": "0cc5aab1",
      "metadata": {
        "id": "0cc5aab1"
      },
      "source": [
        "## 평균"
      ]
    },
    {
      "cell_type": "code",
      "execution_count": null,
      "id": "d6b0b6df",
      "metadata": {
        "id": "d6b0b6df",
        "outputId": "17cc0065-8070-4775-a98d-3d97b5268955"
      },
      "outputs": [
        {
          "name": "stdout",
          "output_type": "stream",
          "text": [
            "평균: 20.0\n"
          ]
        }
      ],
      "source": [
        "x = [10, 20, 30]\n",
        "sum = 0\n",
        "for i in range(3):\n",
        "    sum += x[i]\n",
        "print(\"평균:\", sum / len(x))"
      ]
    },
    {
      "cell_type": "code",
      "execution_count": null,
      "id": "158b5986",
      "metadata": {
        "id": "158b5986",
        "outputId": "94618c5c-4a39-4007-b7ed-be35c7a21148"
      },
      "outputs": [
        {
          "data": {
            "text/plain": [
              "11.593438968070707"
            ]
          },
          "execution_count": 9,
          "metadata": {},
          "output_type": "execute_result"
        }
      ],
      "source": [
        "ns_book7['대출건수'].mean()"
      ]
    },
    {
      "cell_type": "markdown",
      "id": "cf1edb20",
      "metadata": {
        "id": "cf1edb20"
      },
      "source": [
        "## 중앙값"
      ]
    },
    {
      "cell_type": "code",
      "execution_count": null,
      "id": "97c4debc",
      "metadata": {
        "id": "97c4debc",
        "outputId": "f8cd38ca-f38d-42a0-ac7c-b1b0cf686a36"
      },
      "outputs": [
        {
          "data": {
            "text/plain": [
              "6.0"
            ]
          },
          "execution_count": 10,
          "metadata": {},
          "output_type": "execute_result"
        }
      ],
      "source": [
        "ns_book7['대출건수'].median()"
      ]
    },
    {
      "cell_type": "code",
      "execution_count": null,
      "id": "9bab8059",
      "metadata": {
        "id": "9bab8059",
        "outputId": "bf561e19-7681-4831-dd13-585c51a998ee"
      },
      "outputs": [
        {
          "data": {
            "text/plain": [
              "0    2.5\n",
              "dtype: float64"
            ]
          },
          "execution_count": 11,
          "metadata": {},
          "output_type": "execute_result"
        }
      ],
      "source": [
        "temp_df = pd.DataFrame([1,2,3,4])\n",
        "temp_df.median()"
      ]
    },
    {
      "cell_type": "code",
      "execution_count": null,
      "id": "5edb6475",
      "metadata": {
        "id": "5edb6475",
        "outputId": "8715e095-a1d9-471c-deec-4d29a4037dc3"
      },
      "outputs": [
        {
          "data": {
            "text/plain": [
              "183.0"
            ]
          },
          "execution_count": 12,
          "metadata": {},
          "output_type": "execute_result"
        }
      ],
      "source": [
        "ns_book7['대출건수'].drop_duplicates().median()"
      ]
    },
    {
      "cell_type": "markdown",
      "id": "4b2519d7",
      "metadata": {
        "id": "4b2519d7"
      },
      "source": [
        "## 최솟값, 최댓값"
      ]
    },
    {
      "cell_type": "code",
      "execution_count": null,
      "id": "f3c6165f",
      "metadata": {
        "id": "f3c6165f",
        "outputId": "16f140a8-fd30-4bea-8e73-1b76ee206f8f"
      },
      "outputs": [
        {
          "data": {
            "text/plain": [
              "0"
            ]
          },
          "execution_count": 13,
          "metadata": {},
          "output_type": "execute_result"
        }
      ],
      "source": [
        "ns_book7['대출건수'].min()"
      ]
    },
    {
      "cell_type": "code",
      "execution_count": null,
      "id": "93c8c740",
      "metadata": {
        "id": "93c8c740",
        "outputId": "7352f872-fcfc-437e-a42d-324ad22d2203"
      },
      "outputs": [
        {
          "data": {
            "text/plain": [
              "1765"
            ]
          },
          "execution_count": 14,
          "metadata": {},
          "output_type": "execute_result"
        }
      ],
      "source": [
        "ns_book7['대출건수'].max()"
      ]
    },
    {
      "cell_type": "markdown",
      "id": "612914f1",
      "metadata": {
        "id": "612914f1"
      },
      "source": [
        "## 분위수"
      ]
    },
    {
      "cell_type": "code",
      "execution_count": null,
      "id": "e2826339",
      "metadata": {
        "id": "e2826339",
        "outputId": "5dfe494c-5ca1-4989-caec-aef7effe1f44"
      },
      "outputs": [
        {
          "data": {
            "text/plain": [
              "2.0"
            ]
          },
          "execution_count": 15,
          "metadata": {},
          "output_type": "execute_result"
        }
      ],
      "source": [
        "ns_book6['대출건수'].quantile(0.25)"
      ]
    },
    {
      "cell_type": "code",
      "execution_count": null,
      "id": "4aa73f32",
      "metadata": {
        "id": "4aa73f32",
        "outputId": "023d42c7-5cdb-4f6d-953f-62699acce8f2"
      },
      "outputs": [
        {
          "data": {
            "text/plain": [
              "0.25     2.0\n",
              "0.50     6.0\n",
              "0.75    14.0\n",
              "Name: 대출건수, dtype: float64"
            ]
          },
          "execution_count": 16,
          "metadata": {},
          "output_type": "execute_result"
        }
      ],
      "source": [
        "ns_book6['대출건수'].quantile([0.25,0.5,0.75])"
      ]
    },
    {
      "cell_type": "code",
      "execution_count": null,
      "id": "cfa1a9c0",
      "metadata": {
        "id": "cfa1a9c0",
        "outputId": "e1e470c7-b699-4c3d-c30b-c24df8795656"
      },
      "outputs": [
        {
          "data": {
            "text/plain": [
              "4.6"
            ]
          },
          "execution_count": 17,
          "metadata": {},
          "output_type": "execute_result"
        }
      ],
      "source": [
        "pd.Series([1,2,3,4,5]).quantile(0.9)"
      ]
    },
    {
      "cell_type": "code",
      "execution_count": null,
      "id": "c5834799",
      "metadata": {
        "id": "c5834799",
        "outputId": "721bab4b-e310-4cfa-c6f0-96e2e3632ebe"
      },
      "outputs": [
        {
          "data": {
            "text/plain": [
              "4.6"
            ]
          },
          "execution_count": 18,
          "metadata": {},
          "output_type": "execute_result"
        }
      ],
      "source": [
        "4 + (0.9-0.75)*(5-4)/(1.0-0.75)"
      ]
    },
    {
      "cell_type": "code",
      "execution_count": null,
      "id": "f96f7126",
      "metadata": {
        "id": "f96f7126",
        "outputId": "4be6c837-06e9-445e-9309-855ed429aa6b"
      },
      "outputs": [
        {
          "data": {
            "text/plain": [
              "4.5"
            ]
          },
          "execution_count": 19,
          "metadata": {},
          "output_type": "execute_result"
        }
      ],
      "source": [
        "pd.Series([1,2,3,4,5]).quantile(0.9, interpolation='midpoint')"
      ]
    },
    {
      "cell_type": "code",
      "execution_count": null,
      "id": "2f226c34",
      "metadata": {
        "id": "2f226c34",
        "outputId": "434d0bd5-72a4-4f6b-ab88-f9c9d98116a8"
      },
      "outputs": [
        {
          "data": {
            "text/plain": [
              "5"
            ]
          },
          "execution_count": 20,
          "metadata": {},
          "output_type": "execute_result"
        }
      ],
      "source": [
        "pd.Series([1,2,3,4,5]).quantile(0.9, interpolation='nearest')"
      ]
    },
    {
      "cell_type": "code",
      "execution_count": null,
      "id": "ac67b21c",
      "metadata": {
        "id": "ac67b21c"
      },
      "outputs": [],
      "source": [
        "borrow_10_flag = ns_book7['대출건수'] < 10"
      ]
    },
    {
      "cell_type": "code",
      "execution_count": null,
      "id": "0c08b1d3",
      "metadata": {
        "id": "0c08b1d3",
        "outputId": "ee672bf2-0aa7-4820-ec60-c262e890d70c"
      },
      "outputs": [
        {
          "data": {
            "text/plain": [
              "0.6402712530190833"
            ]
          },
          "execution_count": 22,
          "metadata": {},
          "output_type": "execute_result"
        }
      ],
      "source": [
        "borrow_10_flag.mean()"
      ]
    },
    {
      "cell_type": "code",
      "execution_count": null,
      "id": "d35dd69e",
      "metadata": {
        "id": "d35dd69e",
        "outputId": "9e545033-d42d-4855-af0e-e26a807ac58d"
      },
      "outputs": [
        {
          "data": {
            "text/plain": [
              "10.0"
            ]
          },
          "execution_count": 23,
          "metadata": {},
          "output_type": "execute_result"
        }
      ],
      "source": [
        "ns_book7['대출건수'].quantile(0.65)"
      ]
    },
    {
      "cell_type": "markdown",
      "id": "c97f4390",
      "metadata": {
        "id": "c97f4390"
      },
      "source": [
        "## 분산"
      ]
    },
    {
      "cell_type": "code",
      "execution_count": null,
      "id": "5126703e",
      "metadata": {
        "id": "5126703e",
        "outputId": "221bae3a-21e2-4ad0-b261-0ddb77972f97"
      },
      "outputs": [
        {
          "data": {
            "text/plain": [
              "371.69563042906674"
            ]
          },
          "execution_count": 24,
          "metadata": {},
          "output_type": "execute_result"
        }
      ],
      "source": [
        "ns_book7['대출건수'].var()"
      ]
    },
    {
      "cell_type": "markdown",
      "id": "f044841d",
      "metadata": {
        "id": "f044841d"
      },
      "source": [
        "## 표준 편차"
      ]
    },
    {
      "cell_type": "code",
      "execution_count": null,
      "id": "a9255feb",
      "metadata": {
        "id": "a9255feb",
        "outputId": "661a17f1-0aad-4ec4-b996-d82f8b3c9dd6"
      },
      "outputs": [
        {
          "data": {
            "text/plain": [
              "19.279409493785508"
            ]
          },
          "execution_count": 25,
          "metadata": {},
          "output_type": "execute_result"
        }
      ],
      "source": [
        "ns_book7['대출건수'].std()"
      ]
    },
    {
      "cell_type": "code",
      "execution_count": null,
      "id": "8484e2ec",
      "metadata": {
        "id": "8484e2ec",
        "outputId": "0f158078-9b57-42e6-ab10-922d8353bb22"
      },
      "outputs": [
        {
          "data": {
            "text/plain": [
              "19.279409493785508"
            ]
          },
          "execution_count": 26,
          "metadata": {},
          "output_type": "execute_result"
        }
      ],
      "source": [
        "import numpy as np\n",
        "\n",
        "diff = ns_book7['대출건수'] - ns_book7['대출건수'].mean()\n",
        "\n",
        "np.sqrt( np.sum(diff**2) / (len(ns_book7)-1) )"
      ]
    },
    {
      "cell_type": "markdown",
      "id": "40e1d0d8",
      "metadata": {
        "id": "40e1d0d8"
      },
      "source": [
        "## 최빈값"
      ]
    },
    {
      "cell_type": "code",
      "execution_count": null,
      "id": "3dbb221c",
      "metadata": {
        "id": "3dbb221c",
        "outputId": "4ea86479-1334-4720-d0c2-fbb9f01690fe"
      },
      "outputs": [
        {
          "data": {
            "text/plain": [
              "0    승정원일기\n",
              "dtype: object"
            ]
          },
          "execution_count": 27,
          "metadata": {},
          "output_type": "execute_result"
        }
      ],
      "source": [
        "ns_book7['도서명'].mode()"
      ]
    },
    {
      "cell_type": "code",
      "execution_count": null,
      "id": "995e739c",
      "metadata": {
        "scrolled": true,
        "id": "995e739c",
        "outputId": "efc03f45-8451-4879-8d39-22715e9bc40a"
      },
      "outputs": [
        {
          "data": {
            "text/plain": [
              "0    2012.0\n",
              "dtype: float64"
            ]
          },
          "execution_count": 28,
          "metadata": {},
          "output_type": "execute_result"
        }
      ],
      "source": [
        "ns_book7['발행년도'].mode()"
      ]
    },
    {
      "cell_type": "markdown",
      "id": "dc59d7f3",
      "metadata": {
        "id": "dc59d7f3"
      },
      "source": [
        "## 데이터프레임에서 기술통계 구하기"
      ]
    },
    {
      "cell_type": "code",
      "execution_count": null,
      "id": "ec51db89",
      "metadata": {
        "id": "ec51db89",
        "outputId": "03638074-f029-4710-ef7e-b40c2fdf8a84"
      },
      "outputs": [
        {
          "data": {
            "text/plain": [
              "번호      202977.476649\n",
              "발행년도      2008.460076\n",
              "도서권수         1.145540\n",
              "대출건수        11.593439\n",
              "dtype: float64"
            ]
          },
          "execution_count": 29,
          "metadata": {},
          "output_type": "execute_result"
        }
      ],
      "source": [
        "ns_book7.mean(numeric_only=True)"
      ]
    },
    {
      "cell_type": "code",
      "execution_count": null,
      "id": "9d4ee668",
      "metadata": {
        "scrolled": true,
        "id": "9d4ee668",
        "outputId": "0666ba31-1bb5-44c1-821a-2a89c3c574b2"
      },
      "outputs": [
        {
          "data": {
            "text/html": [
              "<div>\n",
              "<style scoped>\n",
              "    .dataframe tbody tr th:only-of-type {\n",
              "        vertical-align: middle;\n",
              "    }\n",
              "\n",
              "    .dataframe tbody tr th {\n",
              "        vertical-align: top;\n",
              "    }\n",
              "\n",
              "    .dataframe thead th {\n",
              "        text-align: right;\n",
              "    }\n",
              "</style>\n",
              "<table border=\"1\" class=\"dataframe\">\n",
              "  <thead>\n",
              "    <tr style=\"text-align: right;\">\n",
              "      <th></th>\n",
              "      <th>도서명</th>\n",
              "      <th>저자</th>\n",
              "      <th>출판사</th>\n",
              "      <th>발행년도</th>\n",
              "      <th>ISBN</th>\n",
              "      <th>세트 ISBN</th>\n",
              "      <th>부가기호</th>\n",
              "      <th>권</th>\n",
              "      <th>주제분류번호</th>\n",
              "      <th>도서권수</th>\n",
              "      <th>대출건수</th>\n",
              "      <th>등록일자</th>\n",
              "    </tr>\n",
              "  </thead>\n",
              "  <tbody>\n",
              "    <tr>\n",
              "      <th>0</th>\n",
              "      <td>승정원일기</td>\n",
              "      <td>세종대왕기념사업회 [편]</td>\n",
              "      <td>문학동네</td>\n",
              "      <td>2012.0</td>\n",
              "      <td>9788937430299</td>\n",
              "      <td>9788937460005</td>\n",
              "      <td>0</td>\n",
              "      <td>1</td>\n",
              "      <td>813.6</td>\n",
              "      <td>1</td>\n",
              "      <td>0</td>\n",
              "      <td>1970-01-01</td>\n",
              "    </tr>\n",
              "  </tbody>\n",
              "</table>\n",
              "</div>"
            ],
            "text/plain": [
              "     도서명             저자   출판사    발행년도           ISBN        세트 ISBN 부가기호  권  \\\n",
              "0  승정원일기  세종대왕기념사업회 [편]  문학동네  2012.0  9788937430299  9788937460005    0  1   \n",
              "\n",
              "  주제분류번호  도서권수  대출건수        등록일자  \n",
              "0  813.6     1     0  1970-01-01  "
            ]
          },
          "execution_count": 30,
          "metadata": {},
          "output_type": "execute_result"
        }
      ],
      "source": [
        "ns_book7.loc[:, '도서명':].mode()"
      ]
    },
    {
      "cell_type": "code",
      "execution_count": null,
      "id": "a9ccbdd1",
      "metadata": {
        "id": "a9ccbdd1"
      },
      "outputs": [],
      "source": [
        "ns_book7.to_csv('ns_book7.csv', index=False)"
      ]
    },
    {
      "cell_type": "markdown",
      "id": "f6114d2e",
      "metadata": {
        "id": "f6114d2e"
      },
      "source": [
        "## 넘파이의 기술통계 함수"
      ]
    },
    {
      "cell_type": "markdown",
      "id": "c8b788d8",
      "metadata": {
        "id": "c8b788d8"
      },
      "source": [
        "### 평균 구하기"
      ]
    },
    {
      "cell_type": "code",
      "execution_count": null,
      "id": "259df238",
      "metadata": {
        "id": "259df238",
        "outputId": "126c7ecc-3d6b-4883-d6fa-661e1e49a359"
      },
      "outputs": [
        {
          "data": {
            "text/plain": [
              "11.593438968070707"
            ]
          },
          "execution_count": 32,
          "metadata": {},
          "output_type": "execute_result"
        }
      ],
      "source": [
        "import numpy as np\n",
        "\n",
        "np.mean(ns_book7['대출건수'])"
      ]
    },
    {
      "cell_type": "code",
      "execution_count": null,
      "id": "1c7f005c",
      "metadata": {
        "scrolled": true,
        "id": "1c7f005c",
        "outputId": "605b7a78-7be1-46d8-e62d-b0d89e58cc88"
      },
      "outputs": [
        {
          "data": {
            "text/plain": [
              "10.543612175385386"
            ]
          },
          "execution_count": 33,
          "metadata": {},
          "output_type": "execute_result"
        }
      ],
      "source": [
        "np.average(ns_book7['대출건수'], weights=1/ns_book7['도서권수'])"
      ]
    },
    {
      "cell_type": "code",
      "execution_count": null,
      "id": "e3f6a7b6",
      "metadata": {
        "id": "e3f6a7b6",
        "outputId": "d5c4716a-d92c-48e7-a0e0-624ff272ca0e"
      },
      "outputs": [
        {
          "data": {
            "text/plain": [
              "9.873029861445774"
            ]
          },
          "execution_count": 34,
          "metadata": {},
          "output_type": "execute_result"
        }
      ],
      "source": [
        "np.mean(ns_book7['대출건수']/ns_book7['도서권수'])"
      ]
    },
    {
      "cell_type": "code",
      "execution_count": null,
      "id": "20f9a992",
      "metadata": {
        "scrolled": true,
        "id": "20f9a992",
        "outputId": "4efd1164-e8a3-44a7-8462-989ba868f1ac"
      },
      "outputs": [
        {
          "data": {
            "text/plain": [
              "10.120503701300958"
            ]
          },
          "execution_count": 35,
          "metadata": {},
          "output_type": "execute_result"
        }
      ],
      "source": [
        "ns_book7['대출건수'].sum()/ns_book7['도서권수'].sum()"
      ]
    },
    {
      "cell_type": "markdown",
      "id": "13b3a1e5",
      "metadata": {
        "id": "13b3a1e5"
      },
      "source": [
        "### 중앙값 구하기"
      ]
    },
    {
      "cell_type": "code",
      "execution_count": null,
      "id": "3f627653",
      "metadata": {
        "id": "3f627653",
        "outputId": "6b4f09a3-a9c7-4dbc-c421-7a6bb054c315"
      },
      "outputs": [
        {
          "data": {
            "text/plain": [
              "6.0"
            ]
          },
          "execution_count": 36,
          "metadata": {},
          "output_type": "execute_result"
        }
      ],
      "source": [
        "np.median(ns_book7['대출건수'])"
      ]
    },
    {
      "cell_type": "markdown",
      "id": "ebf031cb",
      "metadata": {
        "id": "ebf031cb"
      },
      "source": [
        "### 최솟값, 최댓값 구하기"
      ]
    },
    {
      "cell_type": "code",
      "execution_count": null,
      "id": "f61e54a7",
      "metadata": {
        "id": "f61e54a7",
        "outputId": "3121f6ea-de29-4cba-c46c-ad76c30ed4e6"
      },
      "outputs": [
        {
          "data": {
            "text/plain": [
              "0"
            ]
          },
          "execution_count": 37,
          "metadata": {},
          "output_type": "execute_result"
        }
      ],
      "source": [
        "np.min(ns_book7['대출건수'])"
      ]
    },
    {
      "cell_type": "code",
      "execution_count": null,
      "id": "730fe473",
      "metadata": {
        "id": "730fe473",
        "outputId": "e18b2bc6-a4e0-4caa-e36a-3aa526cbff08"
      },
      "outputs": [
        {
          "data": {
            "text/plain": [
              "1765"
            ]
          },
          "execution_count": 38,
          "metadata": {},
          "output_type": "execute_result"
        }
      ],
      "source": [
        "np.max(ns_book7['대출건수'])"
      ]
    },
    {
      "cell_type": "markdown",
      "id": "91d5cb75",
      "metadata": {
        "id": "91d5cb75"
      },
      "source": [
        "### 분위수 구하기"
      ]
    },
    {
      "cell_type": "code",
      "execution_count": null,
      "id": "34a541ed",
      "metadata": {
        "id": "34a541ed",
        "outputId": "22ed7ef9-f315-4340-ab8f-6fac59931b67"
      },
      "outputs": [
        {
          "data": {
            "text/plain": [
              "array([ 2.,  6., 14.])"
            ]
          },
          "execution_count": 39,
          "metadata": {},
          "output_type": "execute_result"
        }
      ],
      "source": [
        "# interpolation 매개변수가 numpy 1.22(python >= 3.8) 버전부터 method로 바뀜\n",
        "np.quantile(ns_book7['대출건수'], [0.25,0.5,0.75])"
      ]
    },
    {
      "cell_type": "markdown",
      "id": "3da83285",
      "metadata": {
        "id": "3da83285"
      },
      "source": [
        "### 분산 구하기"
      ]
    },
    {
      "cell_type": "code",
      "execution_count": null,
      "id": "9be4057a",
      "metadata": {
        "id": "9be4057a",
        "outputId": "b2f2f287-315a-4bff-a2e3-7d0c27b3bc97"
      },
      "outputs": [
        {
          "data": {
            "text/plain": [
              "371.6946438971496"
            ]
          },
          "execution_count": 40,
          "metadata": {},
          "output_type": "execute_result"
        }
      ],
      "source": [
        "np.var(ns_book7['대출건수'])"
      ]
    },
    {
      "cell_type": "code",
      "execution_count": null,
      "id": "0e1d74a0",
      "metadata": {
        "id": "0e1d74a0",
        "outputId": "2911270a-2eb2-4ae1-d996-d93306eae284"
      },
      "outputs": [
        {
          "data": {
            "text/plain": [
              "371.6946438971496"
            ]
          },
          "execution_count": 41,
          "metadata": {},
          "output_type": "execute_result"
        }
      ],
      "source": [
        "ns_book7['대출건수'].var(ddof=0)"
      ]
    },
    {
      "cell_type": "code",
      "execution_count": null,
      "id": "92a68ee5",
      "metadata": {
        "id": "92a68ee5",
        "outputId": "adb417d5-1499-48e5-c51e-eeaad0c8bfde"
      },
      "outputs": [
        {
          "data": {
            "text/plain": [
              "371.69563042906674"
            ]
          },
          "execution_count": 42,
          "metadata": {},
          "output_type": "execute_result"
        }
      ],
      "source": [
        "np.var(ns_book7['대출건수'], ddof=1)"
      ]
    },
    {
      "cell_type": "markdown",
      "id": "a50c7032",
      "metadata": {
        "id": "a50c7032"
      },
      "source": [
        "### 표준 편차 구하기"
      ]
    },
    {
      "cell_type": "code",
      "execution_count": null,
      "id": "7ecdabaa",
      "metadata": {
        "id": "7ecdabaa",
        "outputId": "6084efc2-dbc7-4868-81e9-2b750f06675a"
      },
      "outputs": [
        {
          "data": {
            "text/plain": [
              "19.27938390865096"
            ]
          },
          "execution_count": 43,
          "metadata": {},
          "output_type": "execute_result"
        }
      ],
      "source": [
        "np.std(ns_book7['대출건수'])"
      ]
    },
    {
      "cell_type": "markdown",
      "id": "eb01e4a1",
      "metadata": {
        "id": "eb01e4a1"
      },
      "source": [
        "### 최빈값 구하기"
      ]
    },
    {
      "cell_type": "code",
      "execution_count": null,
      "id": "d709a1bf",
      "metadata": {
        "id": "d709a1bf",
        "outputId": "84b79095-f5b1-4aa0-92e1-433bfe0da17f"
      },
      "outputs": [
        {
          "data": {
            "text/plain": [
              "'승정원일기'"
            ]
          },
          "execution_count": 44,
          "metadata": {},
          "output_type": "execute_result"
        }
      ],
      "source": [
        "values, counts = np.unique(ns_book7['도서명'], return_counts=True)\n",
        "max_idx = np.argmax(counts)\n",
        "values[max_idx]"
      ]
    }
  ],
  "metadata": {
    "kernelspec": {
      "display_name": "Python 3",
      "language": "python",
      "name": "python3"
    },
    "language_info": {
      "codemirror_mode": {
        "name": "ipython",
        "version": 3
      },
      "file_extension": ".py",
      "mimetype": "text/x-python",
      "name": "python",
      "nbconvert_exporter": "python",
      "pygments_lexer": "ipython3",
      "version": "3.7.3"
    },
    "colab": {
      "provenance": [],
      "include_colab_link": true
    }
  },
  "nbformat": 4,
  "nbformat_minor": 5
}